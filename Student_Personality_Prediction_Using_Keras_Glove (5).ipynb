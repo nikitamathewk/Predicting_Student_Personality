{
  "nbformat": 4,
  "nbformat_minor": 0,
  "metadata": {
    "colab": {
      "name": "Student_Personality_Prediction_Using_Keras_Glove.ipynb",
      "provenance": []
    },
    "kernelspec": {
      "display_name": "Python 3",
      "language": "python",
      "name": "python3"
    },
    "language_info": {
      "codemirror_mode": {
        "name": "ipython",
        "version": 3
      },
      "file_extension": ".py",
      "mimetype": "text/x-python",
      "name": "python",
      "nbconvert_exporter": "python",
      "pygments_lexer": "ipython3",
      "version": "3.7.2"
    }
  },
  "cells": [
    {
      "cell_type": "code",
      "metadata": {
        "id": "UfWPgkZazqQf"
      },
      "source": [
        "import pymysql\n",
        "import pandas as pd"
      ],
      "execution_count": null,
      "outputs": []
    },
    {
      "cell_type": "code",
      "metadata": {
        "id": "KVnVx7ZbzqQt",
        "outputId": "75509fe5-8f18-4089-d79c-ed275ecd506b"
      },
      "source": [
        "conn=pymysql.connect(host='localhost',port=int(3306),user='root',passwd='*****',db='test')\n",
        "\n",
        "df=pd.read_sql_query(\"SELECT * FROM chat \",conn)\n",
        "\n",
        "\n",
        "print(df)"
      ],
      "execution_count": null,
      "outputs": [
        {
          "output_type": "stream",
          "text": [
            "   user_id  thread_id  id                                               body\n",
            "0        1        101   1               I am glad to be a part of this team.\n",
            "1        2        102   2  That approach could me made easier if we use t...\n",
            "2        1        103   3                I agree and I totally support that.\n"
          ],
          "name": "stdout"
        }
      ]
    },
    {
      "cell_type": "code",
      "metadata": {
        "id": "XbOSJmT7zqQu",
        "outputId": "8ba06ae5-b34d-48e8-99ed-01c168849c82"
      },
      "source": [
        "conn=pymysql.connect(host='localhost',port=int(3306),user='root',passwd='*****',db='test')\n",
        "test=pd.read_sql_query(\"select user_id,group_concat(body) as TEXT from chat group by user_id \",conn)\n",
        "print(test)"
      ],
      "execution_count": null,
      "outputs": [
        {
          "output_type": "stream",
          "text": [
            "   user_id                                               TEXT\n",
            "0        1  I am glad to be a part of this team.,I agree a...\n",
            "1        2  That approach could me made easier if we use t...\n"
          ],
          "name": "stdout"
        }
      ]
    },
    {
      "cell_type": "code",
      "metadata": {
        "id": "5_bjuy-_x2EP"
      },
      "source": [
        "from IPython.core.debugger import set_trace\n",
        "\n",
        "#%load_ext nb_black\n",
        "\n",
        "import pandas as pd\n",
        "import numpy as np\n",
        "import os\n",
        "import matplotlib.pyplot as plt\n",
        "import time\n",
        "\n",
        "plt.style.use(style=\"seaborn\")\n",
        "%matplotlib inline"
      ],
      "execution_count": null,
      "outputs": []
    },
    {
      "cell_type": "code",
      "metadata": {
        "id": "uKJtRFtcfVwb"
      },
      "source": [
        "def mbti_to_big5(mbti):\n",
        "   \n",
        "  \n",
        "    mbti = mbti.lower()\n",
        "    cEXT, cNEU, cAGR, cCON, cOPN = 0,np.NaN,0,0,0\n",
        "    if mbti[0] == \"i\":\n",
        "        cEXT = 0\n",
        "    elif mbti[0] == \"e\":\n",
        "        cEXT = 1\n",
        "\n",
        "    \n",
        "    if mbti[1] == \"n\":\n",
        "        cOPN = 1\n",
        "    elif mbti[1] == \"s\":\n",
        "        cOPN = 0   \n",
        "\n",
        "    \n",
        "    if mbti[2] == \"t\":\n",
        "        cAGR = 0\n",
        "    elif mbti[2] == \"f\":\n",
        "        cAGR = 1\n",
        "\n",
        "    if mbti[3] == \"p\":\n",
        "        cCON = 0\n",
        "    elif mbti[3] == \"j\":\n",
        "        cCON = 1\n",
        "\n",
        "    return cEXT, cNEU, cAGR, cCON, cOPN"
      ],
      "execution_count": null,
      "outputs": []
    },
    {
      "cell_type": "code",
      "metadata": {
        "id": "GcKgz-Czx2EQ"
      },
      "source": [
        "df_essays =pd.read_csv('essays.csv', encoding='cp1252', delimiter=',', quotechar='\"')"
      ],
      "execution_count": null,
      "outputs": []
    },
    {
      "cell_type": "code",
      "metadata": {
        "id": "JiuQAwMz0wr5"
      },
      "source": [
        "for e in df_essays.columns[2:7]:\n",
        "    df_essays[e] = df_essays[e].replace('n', '0')\n",
        "    df_essays[e] = df_essays[e].replace('y', '1')\n",
        "    \n",
        "    df_essays[e] = pd.to_numeric(df_essays[e])"
      ],
      "execution_count": null,
      "outputs": []
    },
    {
      "cell_type": "code",
      "metadata": {
        "colab": {
          "base_uri": "https://localhost:8080/",
          "height": 204
        },
        "id": "J2IL9XJkx2EQ",
        "outputId": "b06764d1-88b0-4800-f8ed-ec7d4182f020"
      },
      "source": [
        "df_essays.head()"
      ],
      "execution_count": null,
      "outputs": [
        {
          "output_type": "execute_result",
          "data": {
            "text/html": [
              "<div>\n",
              "<style scoped>\n",
              "    .dataframe tbody tr th:only-of-type {\n",
              "        vertical-align: middle;\n",
              "    }\n",
              "\n",
              "    .dataframe tbody tr th {\n",
              "        vertical-align: top;\n",
              "    }\n",
              "\n",
              "    .dataframe thead th {\n",
              "        text-align: right;\n",
              "    }\n",
              "</style>\n",
              "<table border=\"1\" class=\"dataframe\">\n",
              "  <thead>\n",
              "    <tr style=\"text-align: right;\">\n",
              "      <th></th>\n",
              "      <th>#AUTHID</th>\n",
              "      <th>TEXT</th>\n",
              "      <th>cEXT</th>\n",
              "      <th>cNEU</th>\n",
              "      <th>cAGR</th>\n",
              "      <th>cCON</th>\n",
              "      <th>cOPN</th>\n",
              "    </tr>\n",
              "  </thead>\n",
              "  <tbody>\n",
              "    <tr>\n",
              "      <th>0</th>\n",
              "      <td>1997_504851.txt</td>\n",
              "      <td>Well, right now I just woke up from a mid-day ...</td>\n",
              "      <td>0</td>\n",
              "      <td>1</td>\n",
              "      <td>1</td>\n",
              "      <td>0</td>\n",
              "      <td>1</td>\n",
              "    </tr>\n",
              "    <tr>\n",
              "      <th>1</th>\n",
              "      <td>1997_605191.txt</td>\n",
              "      <td>Well, here we go with the stream of consciousn...</td>\n",
              "      <td>0</td>\n",
              "      <td>0</td>\n",
              "      <td>1</td>\n",
              "      <td>0</td>\n",
              "      <td>0</td>\n",
              "    </tr>\n",
              "    <tr>\n",
              "      <th>2</th>\n",
              "      <td>1997_687252.txt</td>\n",
              "      <td>An open keyboard and buttons to push. The thin...</td>\n",
              "      <td>0</td>\n",
              "      <td>1</td>\n",
              "      <td>0</td>\n",
              "      <td>1</td>\n",
              "      <td>1</td>\n",
              "    </tr>\n",
              "    <tr>\n",
              "      <th>3</th>\n",
              "      <td>1997_568848.txt</td>\n",
              "      <td>I can't believe it!  It's really happening!  M...</td>\n",
              "      <td>1</td>\n",
              "      <td>0</td>\n",
              "      <td>1</td>\n",
              "      <td>1</td>\n",
              "      <td>0</td>\n",
              "    </tr>\n",
              "    <tr>\n",
              "      <th>4</th>\n",
              "      <td>1997_688160.txt</td>\n",
              "      <td>Well, here I go with the good old stream of co...</td>\n",
              "      <td>1</td>\n",
              "      <td>0</td>\n",
              "      <td>1</td>\n",
              "      <td>0</td>\n",
              "      <td>1</td>\n",
              "    </tr>\n",
              "  </tbody>\n",
              "</table>\n",
              "</div>"
            ],
            "text/plain": [
              "           #AUTHID                                               TEXT  cEXT  \\\n",
              "0  1997_504851.txt  Well, right now I just woke up from a mid-day ...     0   \n",
              "1  1997_605191.txt  Well, here we go with the stream of consciousn...     0   \n",
              "2  1997_687252.txt  An open keyboard and buttons to push. The thin...     0   \n",
              "3  1997_568848.txt  I can't believe it!  It's really happening!  M...     1   \n",
              "4  1997_688160.txt  Well, here I go with the good old stream of co...     1   \n",
              "\n",
              "   cNEU  cAGR  cCON  cOPN  \n",
              "0     1     1     0     1  \n",
              "1     0     1     0     0  \n",
              "2     1     0     1     1  \n",
              "3     0     1     1     0  \n",
              "4     0     1     0     1  "
            ]
          },
          "metadata": {
            "tags": []
          },
          "execution_count": 11
        }
      ]
    },
    {
      "cell_type": "code",
      "metadata": {
        "colab": {
          "base_uri": "https://localhost:8080/",
          "height": 204
        },
        "id": "b9Z9Y6T_x2ER",
        "outputId": "8a986377-7f44-4109-812f-4d2f9419c0bb"
      },
      "source": [
        "test.head()"
      ],
      "execution_count": null,
      "outputs": [
        {
          "output_type": "execute_result",
          "data": {
            "text/html": [
              "<div>\n",
              "<style scoped>\n",
              "    .dataframe tbody tr th:only-of-type {\n",
              "        vertical-align: middle;\n",
              "    }\n",
              "\n",
              "    .dataframe tbody tr th {\n",
              "        vertical-align: top;\n",
              "    }\n",
              "\n",
              "    .dataframe thead th {\n",
              "        text-align: right;\n",
              "    }\n",
              "</style>\n",
              "<table border=\"1\" class=\"dataframe\">\n",
              "  <thead>\n",
              "    <tr style=\"text-align: right;\">\n",
              "      <th></th>\n",
              "      <th>user_id</th>\n",
              "      <th>TEXT</th>\n",
              "    </tr>\n",
              "  </thead>\n",
              "  <tbody>\n",
              "    <tr>\n",
              "      <th>0</th>\n",
              "      <td>1</td>\n",
              "      <td>I am glad to be a part of this team.,I agree a...</td>\n",
              "    </tr>\n",
              "    <tr>\n",
              "      <th>1</th>\n",
              "      <td>2</td>\n",
              "      <td>That approach could me made easier if we use t...</td>\n",
              "    </tr>\n",
              "  </tbody>\n",
              "</table>\n",
              "</div>"
            ],
            "text/plain": [
              "   user_id                                               TEXT\n",
              "0        1  I am glad to be a part of this team.,I agree a...\n",
              "1        2  That approach could me made easier if we use t..."
            ]
          },
          "metadata": {
            "tags": []
          },
          "execution_count": 83
        }
      ]
    },
    {
      "cell_type": "code",
      "metadata": {
        "colab": {
          "base_uri": "https://localhost:8080/",
          "height": 419
        },
        "id": "f0YoeS98f2KD",
        "outputId": "b102706d-f8f1-4bdf-ed76-79705b71fa4f"
      },
      "source": [
        "df_kaggle = pd.read_csv('mbti_1.csv',  skiprows=0 )\n",
        "\n",
        "df_kaggle[\"cEXT\"] =   df_kaggle.apply(lambda x: mbti_to_big5(x.type)[0], 1)\n",
        "df_kaggle[\"cNEU\"] =   df_kaggle.apply(lambda x: mbti_to_big5(x.type)[1], 1)\n",
        "df_kaggle[\"cAGR\"] =   df_kaggle.apply(lambda x: mbti_to_big5(x.type)[2], 1)\n",
        "df_kaggle[\"cCON\"] =   df_kaggle.apply(lambda x: mbti_to_big5(x.type)[3], 1)\n",
        "df_kaggle[\"cOPN\"] =   df_kaggle.apply(lambda x: mbti_to_big5(x.type)[4], 1)\n",
        "\n",
        "df_kaggle = df_kaggle[[\"posts\", \"cEXT\", \"cNEU\", \"cAGR\", \"cCON\", \"cOPN\"]]\n",
        "df_kaggle.columns = [\"TEXT\", \"cEXT\", \"cNEU\", \"cAGR\", \"cCON\", \"cOPN\"]\n",
        "\n",
        "# remove |||\n",
        "df_kaggle[\"TEXT\"] = df_kaggle.apply(lambda x: x.TEXT.replace(\"|||\", \" \")[:], 1)\n",
        "\n",
        "\n",
        "df_kaggle"
      ],
      "execution_count": null,
      "outputs": [
        {
          "output_type": "execute_result",
          "data": {
            "text/html": [
              "<div>\n",
              "<style scoped>\n",
              "    .dataframe tbody tr th:only-of-type {\n",
              "        vertical-align: middle;\n",
              "    }\n",
              "\n",
              "    .dataframe tbody tr th {\n",
              "        vertical-align: top;\n",
              "    }\n",
              "\n",
              "    .dataframe thead th {\n",
              "        text-align: right;\n",
              "    }\n",
              "</style>\n",
              "<table border=\"1\" class=\"dataframe\">\n",
              "  <thead>\n",
              "    <tr style=\"text-align: right;\">\n",
              "      <th></th>\n",
              "      <th>TEXT</th>\n",
              "      <th>cEXT</th>\n",
              "      <th>cNEU</th>\n",
              "      <th>cAGR</th>\n",
              "      <th>cCON</th>\n",
              "      <th>cOPN</th>\n",
              "    </tr>\n",
              "  </thead>\n",
              "  <tbody>\n",
              "    <tr>\n",
              "      <th>0</th>\n",
              "      <td>'http://www.youtube.com/watch?v=qsXHcwe3krw ht...</td>\n",
              "      <td>0</td>\n",
              "      <td>NaN</td>\n",
              "      <td>1</td>\n",
              "      <td>1</td>\n",
              "      <td>1</td>\n",
              "    </tr>\n",
              "    <tr>\n",
              "      <th>1</th>\n",
              "      <td>'I'm finding the lack of me in these posts ver...</td>\n",
              "      <td>1</td>\n",
              "      <td>NaN</td>\n",
              "      <td>0</td>\n",
              "      <td>0</td>\n",
              "      <td>1</td>\n",
              "    </tr>\n",
              "    <tr>\n",
              "      <th>2</th>\n",
              "      <td>'Good one  _____   https://www.youtube.com/wat...</td>\n",
              "      <td>0</td>\n",
              "      <td>NaN</td>\n",
              "      <td>0</td>\n",
              "      <td>0</td>\n",
              "      <td>1</td>\n",
              "    </tr>\n",
              "    <tr>\n",
              "      <th>3</th>\n",
              "      <td>'Dear INTP,   I enjoyed our conversation the o...</td>\n",
              "      <td>0</td>\n",
              "      <td>NaN</td>\n",
              "      <td>0</td>\n",
              "      <td>1</td>\n",
              "      <td>1</td>\n",
              "    </tr>\n",
              "    <tr>\n",
              "      <th>4</th>\n",
              "      <td>'You're fired. That's another silly misconcept...</td>\n",
              "      <td>1</td>\n",
              "      <td>NaN</td>\n",
              "      <td>0</td>\n",
              "      <td>1</td>\n",
              "      <td>1</td>\n",
              "    </tr>\n",
              "    <tr>\n",
              "      <th>...</th>\n",
              "      <td>...</td>\n",
              "      <td>...</td>\n",
              "      <td>...</td>\n",
              "      <td>...</td>\n",
              "      <td>...</td>\n",
              "      <td>...</td>\n",
              "    </tr>\n",
              "    <tr>\n",
              "      <th>8670</th>\n",
              "      <td>'https://www.youtube.com/watch?v=t8edHB_h908 I...</td>\n",
              "      <td>0</td>\n",
              "      <td>NaN</td>\n",
              "      <td>1</td>\n",
              "      <td>0</td>\n",
              "      <td>0</td>\n",
              "    </tr>\n",
              "    <tr>\n",
              "      <th>8671</th>\n",
              "      <td>'So...if this thread already exists someplace ...</td>\n",
              "      <td>1</td>\n",
              "      <td>NaN</td>\n",
              "      <td>1</td>\n",
              "      <td>0</td>\n",
              "      <td>1</td>\n",
              "    </tr>\n",
              "    <tr>\n",
              "      <th>8672</th>\n",
              "      <td>'So many questions when i do these things.  I ...</td>\n",
              "      <td>0</td>\n",
              "      <td>NaN</td>\n",
              "      <td>0</td>\n",
              "      <td>0</td>\n",
              "      <td>1</td>\n",
              "    </tr>\n",
              "    <tr>\n",
              "      <th>8673</th>\n",
              "      <td>'I am very conflicted right now when it comes ...</td>\n",
              "      <td>0</td>\n",
              "      <td>NaN</td>\n",
              "      <td>1</td>\n",
              "      <td>0</td>\n",
              "      <td>1</td>\n",
              "    </tr>\n",
              "    <tr>\n",
              "      <th>8674</th>\n",
              "      <td>'It has been too long since I have been on per...</td>\n",
              "      <td>0</td>\n",
              "      <td>NaN</td>\n",
              "      <td>1</td>\n",
              "      <td>0</td>\n",
              "      <td>1</td>\n",
              "    </tr>\n",
              "  </tbody>\n",
              "</table>\n",
              "<p>8675 rows × 6 columns</p>\n",
              "</div>"
            ],
            "text/plain": [
              "                                                   TEXT  cEXT  cNEU  cAGR  \\\n",
              "0     'http://www.youtube.com/watch?v=qsXHcwe3krw ht...     0   NaN     1   \n",
              "1     'I'm finding the lack of me in these posts ver...     1   NaN     0   \n",
              "2     'Good one  _____   https://www.youtube.com/wat...     0   NaN     0   \n",
              "3     'Dear INTP,   I enjoyed our conversation the o...     0   NaN     0   \n",
              "4     'You're fired. That's another silly misconcept...     1   NaN     0   \n",
              "...                                                 ...   ...   ...   ...   \n",
              "8670  'https://www.youtube.com/watch?v=t8edHB_h908 I...     0   NaN     1   \n",
              "8671  'So...if this thread already exists someplace ...     1   NaN     1   \n",
              "8672  'So many questions when i do these things.  I ...     0   NaN     0   \n",
              "8673  'I am very conflicted right now when it comes ...     0   NaN     1   \n",
              "8674  'It has been too long since I have been on per...     0   NaN     1   \n",
              "\n",
              "      cCON  cOPN  \n",
              "0        1     1  \n",
              "1        0     1  \n",
              "2        0     1  \n",
              "3        1     1  \n",
              "4        1     1  \n",
              "...    ...   ...  \n",
              "8670     0     0  \n",
              "8671     0     1  \n",
              "8672     0     1  \n",
              "8673     0     1  \n",
              "8674     0     1  \n",
              "\n",
              "[8675 rows x 6 columns]"
            ]
          },
          "metadata": {
            "tags": []
          },
          "execution_count": 13
        }
      ]
    },
    {
      "cell_type": "code",
      "metadata": {
        "colab": {
          "base_uri": "https://localhost:8080/"
        },
        "id": "b6o_MYLPgH85",
        "outputId": "3060cf0f-b848-459b-c17b-f3d37175381e"
      },
      "source": [
        "#concatinate the dataframes:\n",
        "frames  = [df_essays, df_kaggle]\n",
        "essay = pd.concat(frames, sort=False)\n",
        "essay.reset_index(drop=True)\n",
        "\n",
        "\n",
        "\n",
        "print(\"saved entries: \", len(essay))"
      ],
      "execution_count": null,
      "outputs": [
        {
          "output_type": "stream",
          "text": [
            "saved entries:  11142\n"
          ],
          "name": "stdout"
        }
      ]
    },
    {
      "cell_type": "code",
      "metadata": {
        "colab": {
          "base_uri": "https://localhost:8080/",
          "height": 419
        },
        "id": "5iw7oaZEhbiY",
        "outputId": "3a880a0d-1f97-4813-a6a9-da26adaa7648"
      },
      "source": [
        "essay"
      ],
      "execution_count": null,
      "outputs": [
        {
          "output_type": "execute_result",
          "data": {
            "text/html": [
              "<div>\n",
              "<style scoped>\n",
              "    .dataframe tbody tr th:only-of-type {\n",
              "        vertical-align: middle;\n",
              "    }\n",
              "\n",
              "    .dataframe tbody tr th {\n",
              "        vertical-align: top;\n",
              "    }\n",
              "\n",
              "    .dataframe thead th {\n",
              "        text-align: right;\n",
              "    }\n",
              "</style>\n",
              "<table border=\"1\" class=\"dataframe\">\n",
              "  <thead>\n",
              "    <tr style=\"text-align: right;\">\n",
              "      <th></th>\n",
              "      <th>#AUTHID</th>\n",
              "      <th>TEXT</th>\n",
              "      <th>cEXT</th>\n",
              "      <th>cNEU</th>\n",
              "      <th>cAGR</th>\n",
              "      <th>cCON</th>\n",
              "      <th>cOPN</th>\n",
              "    </tr>\n",
              "  </thead>\n",
              "  <tbody>\n",
              "    <tr>\n",
              "      <th>0</th>\n",
              "      <td>1997_504851.txt</td>\n",
              "      <td>Well, right now I just woke up from a mid-day ...</td>\n",
              "      <td>0</td>\n",
              "      <td>1.0</td>\n",
              "      <td>1</td>\n",
              "      <td>0</td>\n",
              "      <td>1</td>\n",
              "    </tr>\n",
              "    <tr>\n",
              "      <th>1</th>\n",
              "      <td>1997_605191.txt</td>\n",
              "      <td>Well, here we go with the stream of consciousn...</td>\n",
              "      <td>0</td>\n",
              "      <td>0.0</td>\n",
              "      <td>1</td>\n",
              "      <td>0</td>\n",
              "      <td>0</td>\n",
              "    </tr>\n",
              "    <tr>\n",
              "      <th>2</th>\n",
              "      <td>1997_687252.txt</td>\n",
              "      <td>An open keyboard and buttons to push. The thin...</td>\n",
              "      <td>0</td>\n",
              "      <td>1.0</td>\n",
              "      <td>0</td>\n",
              "      <td>1</td>\n",
              "      <td>1</td>\n",
              "    </tr>\n",
              "    <tr>\n",
              "      <th>3</th>\n",
              "      <td>1997_568848.txt</td>\n",
              "      <td>I can't believe it!  It's really happening!  M...</td>\n",
              "      <td>1</td>\n",
              "      <td>0.0</td>\n",
              "      <td>1</td>\n",
              "      <td>1</td>\n",
              "      <td>0</td>\n",
              "    </tr>\n",
              "    <tr>\n",
              "      <th>4</th>\n",
              "      <td>1997_688160.txt</td>\n",
              "      <td>Well, here I go with the good old stream of co...</td>\n",
              "      <td>1</td>\n",
              "      <td>0.0</td>\n",
              "      <td>1</td>\n",
              "      <td>0</td>\n",
              "      <td>1</td>\n",
              "    </tr>\n",
              "    <tr>\n",
              "      <th>...</th>\n",
              "      <td>...</td>\n",
              "      <td>...</td>\n",
              "      <td>...</td>\n",
              "      <td>...</td>\n",
              "      <td>...</td>\n",
              "      <td>...</td>\n",
              "      <td>...</td>\n",
              "    </tr>\n",
              "    <tr>\n",
              "      <th>8670</th>\n",
              "      <td>NaN</td>\n",
              "      <td>'https://www.youtube.com/watch?v=t8edHB_h908 I...</td>\n",
              "      <td>0</td>\n",
              "      <td>NaN</td>\n",
              "      <td>1</td>\n",
              "      <td>0</td>\n",
              "      <td>0</td>\n",
              "    </tr>\n",
              "    <tr>\n",
              "      <th>8671</th>\n",
              "      <td>NaN</td>\n",
              "      <td>'So...if this thread already exists someplace ...</td>\n",
              "      <td>1</td>\n",
              "      <td>NaN</td>\n",
              "      <td>1</td>\n",
              "      <td>0</td>\n",
              "      <td>1</td>\n",
              "    </tr>\n",
              "    <tr>\n",
              "      <th>8672</th>\n",
              "      <td>NaN</td>\n",
              "      <td>'So many questions when i do these things.  I ...</td>\n",
              "      <td>0</td>\n",
              "      <td>NaN</td>\n",
              "      <td>0</td>\n",
              "      <td>0</td>\n",
              "      <td>1</td>\n",
              "    </tr>\n",
              "    <tr>\n",
              "      <th>8673</th>\n",
              "      <td>NaN</td>\n",
              "      <td>'I am very conflicted right now when it comes ...</td>\n",
              "      <td>0</td>\n",
              "      <td>NaN</td>\n",
              "      <td>1</td>\n",
              "      <td>0</td>\n",
              "      <td>1</td>\n",
              "    </tr>\n",
              "    <tr>\n",
              "      <th>8674</th>\n",
              "      <td>NaN</td>\n",
              "      <td>'It has been too long since I have been on per...</td>\n",
              "      <td>0</td>\n",
              "      <td>NaN</td>\n",
              "      <td>1</td>\n",
              "      <td>0</td>\n",
              "      <td>1</td>\n",
              "    </tr>\n",
              "  </tbody>\n",
              "</table>\n",
              "<p>11142 rows × 7 columns</p>\n",
              "</div>"
            ],
            "text/plain": [
              "              #AUTHID                                               TEXT  \\\n",
              "0     1997_504851.txt  Well, right now I just woke up from a mid-day ...   \n",
              "1     1997_605191.txt  Well, here we go with the stream of consciousn...   \n",
              "2     1997_687252.txt  An open keyboard and buttons to push. The thin...   \n",
              "3     1997_568848.txt  I can't believe it!  It's really happening!  M...   \n",
              "4     1997_688160.txt  Well, here I go with the good old stream of co...   \n",
              "...               ...                                                ...   \n",
              "8670              NaN  'https://www.youtube.com/watch?v=t8edHB_h908 I...   \n",
              "8671              NaN  'So...if this thread already exists someplace ...   \n",
              "8672              NaN  'So many questions when i do these things.  I ...   \n",
              "8673              NaN  'I am very conflicted right now when it comes ...   \n",
              "8674              NaN  'It has been too long since I have been on per...   \n",
              "\n",
              "      cEXT  cNEU  cAGR  cCON  cOPN  \n",
              "0        0   1.0     1     0     1  \n",
              "1        0   0.0     1     0     0  \n",
              "2        0   1.0     0     1     1  \n",
              "3        1   0.0     1     1     0  \n",
              "4        1   0.0     1     0     1  \n",
              "...    ...   ...   ...   ...   ...  \n",
              "8670     0   NaN     1     0     0  \n",
              "8671     1   NaN     1     0     1  \n",
              "8672     0   NaN     0     0     1  \n",
              "8673     0   NaN     1     0     1  \n",
              "8674     0   NaN     1     0     1  \n",
              "\n",
              "[11142 rows x 7 columns]"
            ]
          },
          "metadata": {
            "tags": []
          },
          "execution_count": 15
        }
      ]
    },
    {
      "cell_type": "markdown",
      "metadata": {
        "id": "zB8D5zhYx2ER"
      },
      "source": [
        "Remove URLs and HTML"
      ]
    },
    {
      "cell_type": "code",
      "metadata": {
        "id": "_KUBixeWx2ES"
      },
      "source": [
        "import re\n",
        "\n",
        "\n",
        "def remove_URL(text):\n",
        "    url = re.compile(r\"https?://\\S+|www\\.\\S+\")\n",
        "    return url.sub(r\"\", text)\n",
        "\n",
        "\n",
        "def remove_html(text):\n",
        "    html = re.compile(r\"<.*?>\")\n",
        "    return html.sub(r\"\", text)"
      ],
      "execution_count": null,
      "outputs": []
    },
    {
      "cell_type": "code",
      "metadata": {
        "id": "xJaI-sqDx2ES"
      },
      "source": [
        "def remove_emoji(string):\n",
        "    emoji_pattern = re.compile(\n",
        "        \"[\"\n",
        "        u\"\\U0001F600-\\U0001F64F\"  # emoticons\n",
        "        u\"\\U0001F300-\\U0001F5FF\"  # symbols & pictographs\n",
        "        u\"\\U0001F680-\\U0001F6FF\"  # transport & map symbols\n",
        "        u\"\\U0001F1E0-\\U0001F1FF\"  # flags (iOS)\n",
        "        u\"\\U00002702-\\U000027B0\"\n",
        "        u\"\\U000024C2-\\U0001F251\"\n",
        "        \"]+\",\n",
        "        flags=re.UNICODE,\n",
        "    )\n",
        "    return emoji_pattern.sub(r\"\", string)"
      ],
      "execution_count": null,
      "outputs": []
    },
    {
      "cell_type": "markdown",
      "metadata": {
        "id": "h1pXqpS4x2ES"
      },
      "source": [
        "Remove punctuation"
      ]
    },
    {
      "cell_type": "code",
      "metadata": {
        "id": "6SrQeRmXx2ET"
      },
      "source": [
        "import string\n",
        "\n",
        "\n",
        "def remove_punct(text):\n",
        "    table = str.maketrans(\"\", \"\", string.punctuation)\n",
        "    return text.translate(table)"
      ],
      "execution_count": null,
      "outputs": []
    },
    {
      "cell_type": "code",
      "metadata": {
        "id": "Eb1dmN_sx2ET"
      },
      "source": [
        "essay[\"TEXT\"] = essay.TEXT.map(lambda x: remove_URL(x))\n",
        "essay[\"TEXT\"] = essay.TEXT.map(lambda x: remove_html(x))\n",
        "essay[\"TEXT\"] = essay.TEXT.map(lambda x: remove_emoji(x))\n",
        "essay[\"TEXT\"] = essay.TEXT.map(lambda x: remove_punct(x))"
      ],
      "execution_count": null,
      "outputs": []
    },
    {
      "cell_type": "code",
      "metadata": {
        "colab": {
          "base_uri": "https://localhost:8080/"
        },
        "id": "4a0lkm0Uz91U",
        "outputId": "99ae5715-140b-4415-96d8-70e660051e2b"
      },
      "source": [
        "import nltk\n",
        "nltk.download('stopwords')"
      ],
      "execution_count": null,
      "outputs": [
        {
          "output_type": "stream",
          "text": [
            "[nltk_data] Downloading package stopwords to\n",
            "[nltk_data]     C:\\Users\\nikit\\AppData\\Roaming\\nltk_data...\n",
            "[nltk_data]   Package stopwords is already up-to-date!\n"
          ],
          "name": "stderr"
        },
        {
          "output_type": "execute_result",
          "data": {
            "text/plain": [
              "True"
            ]
          },
          "metadata": {
            "tags": []
          },
          "execution_count": 21
        }
      ]
    },
    {
      "cell_type": "markdown",
      "metadata": {
        "id": "9SuqurYVx2ET"
      },
      "source": [
        "Remove stopwords"
      ]
    },
    {
      "cell_type": "code",
      "metadata": {
        "id": "WWrUh3nhx2EU"
      },
      "source": [
        "from nltk.corpus import stopwords\n",
        "\n",
        "stop = set(stopwords.words(\"english\"))\n",
        "\n",
        "\n",
        "def remove_stopwords(text):\n",
        "    text = [word.lower() for word in text.split() if word.lower() not in stop]\n",
        "\n",
        "    return \" \".join(text)"
      ],
      "execution_count": null,
      "outputs": []
    },
    {
      "cell_type": "code",
      "metadata": {
        "id": "LQP1LNyax2EU"
      },
      "source": [
        "essay[\"TEXT\"] = essay[\"TEXT\"].map(remove_stopwords)"
      ],
      "execution_count": null,
      "outputs": []
    },
    {
      "cell_type": "code",
      "metadata": {
        "colab": {
          "base_uri": "https://localhost:8080/"
        },
        "id": "r2lGWSpM0GPl",
        "outputId": "dd8fb367-520d-4d42-e4d7-b7ee4c72c68e"
      },
      "source": [
        "essay.TEXT "
      ],
      "execution_count": null,
      "outputs": [
        {
          "output_type": "execute_result",
          "data": {
            "text/plain": [
              "0       well right woke midday nap sort weird ever sin...\n",
              "1       well go stream consciousness essay used things...\n",
              "2       open keyboard buttons push thing finally worke...\n",
              "3       cant believe really happening pulse racing lik...\n",
              "4       well go good old stream consciousness assignme...\n",
              "                              ...                        \n",
              "8670    ixfp always think cats fi doms reason especial...\n",
              "8671    soif thread already exists someplace else heck...\n",
              "8672    many questions things would take purple pill p...\n",
              "8673    conflicted right comes wanting children honest...\n",
              "8674    long since personalitycafe although doesnt see...\n",
              "Name: TEXT, Length: 11142, dtype: object"
            ]
          },
          "metadata": {
            "tags": []
          },
          "execution_count": 24
        }
      ]
    },
    {
      "cell_type": "code",
      "metadata": {
        "colab": {
          "base_uri": "https://localhost:8080/"
        },
        "id": "6fCO0NQF1IYt",
        "outputId": "37e79e2f-4cbe-452e-9cb9-e5429cbc55fd"
      },
      "source": [
        "import nltk\n",
        "nltk.download('punkt')"
      ],
      "execution_count": null,
      "outputs": [
        {
          "output_type": "stream",
          "text": [
            "[nltk_data] Downloading package punkt to\n",
            "[nltk_data]     C:\\Users\\nikit\\AppData\\Roaming\\nltk_data...\n",
            "[nltk_data]   Package punkt is already up-to-date!\n"
          ],
          "name": "stderr"
        },
        {
          "output_type": "execute_result",
          "data": {
            "text/plain": [
              "True"
            ]
          },
          "metadata": {
            "tags": []
          },
          "execution_count": 25
        }
      ]
    },
    {
      "cell_type": "code",
      "metadata": {
        "id": "ZMcr6xTEx2EV"
      },
      "source": [
        "from nltk.tokenize import word_tokenize\n",
        "import nltk\n",
        "\n",
        "\n",
        "def create_corpus_tk(df):\n",
        "    corpus = []\n",
        "    for text in essay[\"TEXT\"]:\n",
        "        words = [word.lower() for word in word_tokenize(text)]\n",
        "        corpus.append(words)\n",
        "    return corpus"
      ],
      "execution_count": null,
      "outputs": []
    },
    {
      "cell_type": "code",
      "metadata": {
        "id": "BXV1hHvIx2EW"
      },
      "source": [
        "corpus = create_corpus_tk(essay)"
      ],
      "execution_count": null,
      "outputs": []
    },
    {
      "cell_type": "code",
      "metadata": {
        "colab": {
          "base_uri": "https://localhost:8080/"
        },
        "id": "-rA69-Qrx2EW",
        "outputId": "55632f79-f964-4bf3-9ac1-037f20d9d9e1"
      },
      "source": [
        "num_words = len(corpus)\n",
        "print(num_words)"
      ],
      "execution_count": null,
      "outputs": [
        {
          "output_type": "stream",
          "text": [
            "11142\n"
          ],
          "name": "stdout"
        }
      ]
    },
    {
      "cell_type": "markdown",
      "metadata": {
        "id": "M7aHxvoAx2EX"
      },
      "source": [
        "Train / test split"
      ]
    },
    {
      "cell_type": "code",
      "metadata": {
        "id": "4OhlkyzCx2EX"
      },
      "source": [
        "train_size = int(essay.shape[0] * 0.8)\n",
        "\n",
        "train_sentences = essay.TEXT[:train_size]\n",
        "train_labels_cEXT = essay.cEXT[:train_size]\n",
        "train_labels_cAGR = essay.cAGR[:train_size]\n",
        "train_labels_cCON = essay.cCON[:train_size]\n",
        "train_labels_cOPN = essay.cOPN[:train_size]\n",
        "\n",
        "test_sentences = essay.TEXT[train_size:]\n",
        "test_labels_cEXT = essay.cEXT[train_size:]\n",
        "test_labels_cAGR = essay.cAGR[train_size:]\n",
        "test_labels_cCON = essay.cCON[train_size:]\n",
        "test_labels_cOPN = essay.cOPN[train_size:]"
      ],
      "execution_count": null,
      "outputs": []
    },
    {
      "cell_type": "code",
      "metadata": {
        "id": "IyQeVSmOx2EX"
      },
      "source": [
        "from keras.preprocessing.text import Tokenizer\n",
        "from keras.preprocessing.sequence import pad_sequences\n",
        "\n",
        "max_len = 50"
      ],
      "execution_count": null,
      "outputs": []
    },
    {
      "cell_type": "code",
      "metadata": {
        "id": "-hTj8LKjx2EX"
      },
      "source": [
        "tokenizer = Tokenizer(num_words=num_words)\n",
        "tokenizer.fit_on_texts(train_sentences)"
      ],
      "execution_count": null,
      "outputs": []
    },
    {
      "cell_type": "code",
      "metadata": {
        "id": "u89YAMWrx2EY"
      },
      "source": [
        "train_sequences = tokenizer.texts_to_sequences(train_sentences)"
      ],
      "execution_count": null,
      "outputs": []
    },
    {
      "cell_type": "code",
      "metadata": {
        "colab": {
          "base_uri": "https://localhost:8080/"
        },
        "id": "bTqozoqfx2EY",
        "outputId": "d0f75c63-2e3c-4494-c80a-53efff742a03"
      },
      "source": [
        "train_sentences"
      ],
      "execution_count": null,
      "outputs": [
        {
          "output_type": "execute_result",
          "data": {
            "text/plain": [
              "0       well right woke midday nap sort weird ever sin...\n",
              "1       well go stream consciousness essay used things...\n",
              "2       open keyboard buttons push thing finally worke...\n",
              "3       cant believe really happening pulse racing lik...\n",
              "4       well go good old stream consciousness assignme...\n",
              "                              ...                        \n",
              "6441    im sure whats better posting individual pictur...\n",
              "6442    im well second year didnt finish last year im ...\n",
              "6443    agree except jessica chastain believe enfj hig...\n",
              "6444    always take much think reasonable wham never t...\n",
              "6445    wow dude really spoton im energized people get...\n",
              "Name: TEXT, Length: 8913, dtype: object"
            ]
          },
          "metadata": {
            "tags": []
          },
          "execution_count": 36
        }
      ]
    },
    {
      "cell_type": "code",
      "metadata": {
        "id": "UDQcB8Ftx2EY"
      },
      "source": [
        "train_sequences"
      ],
      "execution_count": null,
      "outputs": []
    },
    {
      "cell_type": "code",
      "metadata": {
        "id": "bJPNlx96x2EY"
      },
      "source": [
        "train_padded = pad_sequences(\n",
        "    train_sequences, maxlen=max_len, truncating=\"post\", padding=\"post\"\n",
        ")"
      ],
      "execution_count": null,
      "outputs": []
    },
    {
      "cell_type": "code",
      "metadata": {
        "colab": {
          "base_uri": "https://localhost:8080/"
        },
        "id": "ypGVR3ySx2EZ",
        "outputId": "768fd278-f1a9-4fd7-94e4-e998fae582a6"
      },
      "source": [
        "train_padded"
      ],
      "execution_count": null,
      "outputs": [
        {
          "output_type": "execute_result",
          "data": {
            "text/plain": [
              "array([[  15,   37, 1948, ...,   90,   54,    6],\n",
              "       [  15,   23, 1260, ...,  162, 1375, 1243],\n",
              "       [ 369, 2349, 4717, ...,  734,   84,    7],\n",
              "       ...,\n",
              "       [ 135,  467, 5594, ...,   42, 2241,  474],\n",
              "       [  27,   60,   13, ...,   78,  460,  688],\n",
              "       [ 322, 1019,    6, ...,  577,   21, 1167]])"
            ]
          },
          "metadata": {
            "tags": []
          },
          "execution_count": 39
        }
      ]
    },
    {
      "cell_type": "code",
      "metadata": {
        "id": "jxX3-jCMx2EZ"
      },
      "source": [
        "test_sequences = tokenizer.texts_to_sequences(test_sentences)\n",
        "test_padded = pad_sequences(\n",
        "    test_sequences, maxlen=max_len, padding=\"post\", truncating=\"post\"\n",
        ")"
      ],
      "execution_count": null,
      "outputs": []
    },
    {
      "cell_type": "code",
      "metadata": {
        "colab": {
          "base_uri": "https://localhost:8080/"
        },
        "id": "iCAeumK_x2EZ",
        "outputId": "2896e6b1-ac42-430c-e0a7-c7166378235f"
      },
      "source": [
        "test_padded"
      ],
      "execution_count": null,
      "outputs": [
        {
          "output_type": "execute_result",
          "data": {
            "text/plain": [
              "array([[  17,   21, 1199, ...,    2,  783, 4069],\n",
              "       [ 664,  514,  943, ...,   74,   46,   53],\n",
              "       [4237,  796,  126, ...,  386, 1958,  453],\n",
              "       ...,\n",
              "       [  56,  341,   18, ..., 1206,   28,   89],\n",
              "       [6614,   37,  238, ..., 2203,  151, 1291],\n",
              "       [  83,   87, 5396, ...,   70,  137, 2809]])"
            ]
          },
          "metadata": {
            "tags": []
          },
          "execution_count": 41
        }
      ]
    },
    {
      "cell_type": "code",
      "metadata": {
        "colab": {
          "base_uri": "https://localhost:8080/"
        },
        "id": "CEe_T1J1x2Ea",
        "outputId": "9a5cb596-ba8d-4e84-b763-0d6ef9902c89"
      },
      "source": [
        "word_index = tokenizer.word_index\n",
        "print(\"Number of unique words:\", len(word_index))"
      ],
      "execution_count": null,
      "outputs": [
        {
          "output_type": "stream",
          "text": [
            "Number of unique words: 140867\n"
          ],
          "name": "stdout"
        }
      ]
    },
    {
      "cell_type": "code",
      "metadata": {
        "id": "qVwss8u2x2Ea"
      },
      "source": [
        "word_index"
      ],
      "execution_count": null,
      "outputs": []
    },
    {
      "cell_type": "markdown",
      "metadata": {
        "id": "Plpoipwkx2Eb"
      },
      "source": [
        "Create the Embedding dictionary"
      ]
    },
    {
      "cell_type": "code",
      "metadata": {
        "id": "BU8Bp5ufx2Eb"
      },
      "source": [
        "embedding_dict = {}\n",
        "with open(\"glove.6B.50d.txt\", \"r\",encoding=\"utf8\") as f:\n",
        "    for line in f:\n",
        "        values = line.split()\n",
        "        word = values[0]\n",
        "        vectors = np.asarray(values[1:], \"float32\")\n",
        "        embedding_dict[word] = vectors\n",
        "f.close()"
      ],
      "execution_count": null,
      "outputs": []
    },
    {
      "cell_type": "code",
      "metadata": {
        "id": "gaWIoSIFx2Ed"
      },
      "source": [
        "embedding_dict"
      ],
      "execution_count": null,
      "outputs": []
    },
    {
      "cell_type": "code",
      "metadata": {
        "id": "6vCUqwjxx2Ef"
      },
      "source": [
        "num_words = len(word_index) + 1\n",
        "embedding_matrix = np.zeros((num_words, 50))\n",
        "\n",
        "for word, i in word_index.items():\n",
        "    if i < num_words:\n",
        "        emb_vec = embedding_dict.get(word)\n",
        "        if emb_vec is not None:\n",
        "            embedding_matrix[i] = emb_vec"
      ],
      "execution_count": null,
      "outputs": []
    },
    {
      "cell_type": "code",
      "metadata": {
        "colab": {
          "base_uri": "https://localhost:8080/"
        },
        "id": "rvcfspOhx2Ef",
        "outputId": "3cf9664d-f59a-4f8e-9218-154781f73acd"
      },
      "source": [
        "embedding_matrix"
      ],
      "execution_count": null,
      "outputs": [
        {
          "output_type": "execute_result",
          "data": {
            "text/plain": [
              "array([[ 0.        ,  0.        ,  0.        , ...,  0.        ,\n",
              "         0.        ,  0.        ],\n",
              "       [-0.067678  ,  0.51832002,  1.32599998, ..., -0.65103   ,\n",
              "         0.12924001,  0.48723999],\n",
              "       [ 0.36807999,  0.20834   , -0.22318999, ..., -0.67236   ,\n",
              "        -0.39708999,  0.25183001],\n",
              "       ...,\n",
              "       [ 0.        ,  0.        ,  0.        , ...,  0.        ,\n",
              "         0.        ,  0.        ],\n",
              "       [-1.02339995, -0.50840002, -1.67120004, ..., -1.65760005,\n",
              "        -0.31445   ,  0.14918   ],\n",
              "       [ 0.        ,  0.        ,  0.        , ...,  0.        ,\n",
              "         0.        ,  0.        ]])"
            ]
          },
          "metadata": {
            "tags": []
          },
          "execution_count": 51
        }
      ]
    },
    {
      "cell_type": "code",
      "metadata": {
        "colab": {
          "base_uri": "https://localhost:8080/"
        },
        "id": "yo2Pbb0Xx2Eg",
        "outputId": "e97e87bb-5d47-4307-b74f-741555fe70a8"
      },
      "source": [
        "print(train_padded.shape)\n",
        "print(train_labels_cEXT.shape)"
      ],
      "execution_count": null,
      "outputs": [
        {
          "output_type": "stream",
          "text": [
            "(8913, 50)\n",
            "(8913,)\n"
          ],
          "name": "stdout"
        }
      ]
    },
    {
      "cell_type": "code",
      "metadata": {
        "colab": {
          "base_uri": "https://localhost:8080/"
        },
        "id": "ShaBPjh0x2Eh",
        "outputId": "1024b4b9-72c5-4135-bf05-dd0a7e9ced86"
      },
      "source": [
        "print(test_padded.shape)\n",
        "print(test_labels_cEXT.shape)"
      ],
      "execution_count": null,
      "outputs": [
        {
          "output_type": "stream",
          "text": [
            "(2229, 50)\n",
            "(2229,)\n"
          ],
          "name": "stdout"
        }
      ]
    },
    {
      "cell_type": "code",
      "metadata": {
        "id": "q9Wb33ZaBA3K"
      },
      "source": [
        "import tensorflow as tf"
      ],
      "execution_count": null,
      "outputs": []
    },
    {
      "cell_type": "code",
      "metadata": {
        "id": "Ct8SWtSDx2Eh"
      },
      "source": [
        "from keras.models import Sequential\n",
        "from keras.layers import Embedding, LSTM, Dense, Dropout\n",
        "from keras.initializers import Constant\n",
        "from keras.optimizers import Adam\n",
        "\n",
        "model = Sequential()\n",
        "\n",
        "model.add(\n",
        "    Embedding(\n",
        "        num_words,\n",
        "        50,\n",
        "        embeddings_initializer=Constant(embedding_matrix),\n",
        "        #tf.nn.embedding_lookup(num_words,embedding_matrix),\n",
        "        input_length=max_len,\n",
        "        trainable=False,\n",
        "    )\n",
        ")\n",
        "\n",
        "model.add(LSTM(50, dropout=0.1))\n",
        "model.add(Dense(1, activation=\"sigmoid\"))\n",
        "\n",
        "\n",
        "optimizer = Adam(learning_rate=3e-4)\n",
        "\n",
        "model.compile(loss=\"binary_crossentropy\", optimizer=optimizer, metrics=[\"accuracy\"])"
      ],
      "execution_count": null,
      "outputs": []
    },
    {
      "cell_type": "code",
      "metadata": {
        "colab": {
          "base_uri": "https://localhost:8080/"
        },
        "id": "0y0InMG7x2Eh",
        "outputId": "3ed07386-3ad0-47bb-d274-d12716586b5a"
      },
      "source": [
        "history = model.fit(\n",
        "    train_padded,\n",
        "    train_labels_cEXT,\n",
        "    epochs=20,\n",
        "    validation_data=(test_padded, test_labels_cEXT),\n",
        "\n",
        "    verbose=1,\n",
        ")"
      ],
      "execution_count": null,
      "outputs": [
        {
          "output_type": "stream",
          "text": [
            "Epoch 1/20\n",
            "279/279 [==============================] - 7s 18ms/step - loss: 0.6325 - accuracy: 0.6772 - val_loss: 0.5506 - val_accuracy: 0.7734\n",
            "Epoch 2/20\n",
            "279/279 [==============================] - 5s 17ms/step - loss: 0.6103 - accuracy: 0.6851 - val_loss: 0.5504 - val_accuracy: 0.7676\n",
            "Epoch 3/20\n",
            "279/279 [==============================] - 5s 18ms/step - loss: 0.5962 - accuracy: 0.7007 - val_loss: 0.5488 - val_accuracy: 0.7721\n",
            "Epoch 4/20\n",
            "279/279 [==============================] - 6s 20ms/step - loss: 0.5971 - accuracy: 0.6930 - val_loss: 0.5444 - val_accuracy: 0.7681\n",
            "Epoch 5/20\n",
            "279/279 [==============================] - 6s 22ms/step - loss: 0.5894 - accuracy: 0.7029 - val_loss: 0.5424 - val_accuracy: 0.7694\n",
            "Epoch 6/20\n",
            "279/279 [==============================] - 7s 23ms/step - loss: 0.5970 - accuracy: 0.6972 - val_loss: 0.5333 - val_accuracy: 0.7734\n",
            "Epoch 7/20\n",
            "279/279 [==============================] - 6s 23ms/step - loss: 0.5847 - accuracy: 0.7079 - val_loss: 0.5535 - val_accuracy: 0.7595\n",
            "Epoch 8/20\n",
            "279/279 [==============================] - 6s 23ms/step - loss: 0.5976 - accuracy: 0.6924 - val_loss: 0.5342 - val_accuracy: 0.7685\n",
            "Epoch 9/20\n",
            "279/279 [==============================] - 6s 23ms/step - loss: 0.5782 - accuracy: 0.7163 - val_loss: 0.5390 - val_accuracy: 0.7694\n",
            "Epoch 10/20\n",
            "279/279 [==============================] - 6s 23ms/step - loss: 0.5742 - accuracy: 0.7102 - val_loss: 0.5466 - val_accuracy: 0.7541\n",
            "Epoch 11/20\n",
            "279/279 [==============================] - 6s 23ms/step - loss: 0.5805 - accuracy: 0.7052 - val_loss: 0.5380 - val_accuracy: 0.7627\n",
            "Epoch 12/20\n",
            "279/279 [==============================] - 6s 22ms/step - loss: 0.5748 - accuracy: 0.7124 - val_loss: 0.5331 - val_accuracy: 0.7703\n",
            "Epoch 13/20\n",
            "279/279 [==============================] - 6s 23ms/step - loss: 0.5734 - accuracy: 0.7105 - val_loss: 0.5325 - val_accuracy: 0.7716\n",
            "Epoch 14/20\n",
            "279/279 [==============================] - 6s 23ms/step - loss: 0.5718 - accuracy: 0.7100 - val_loss: 0.5357 - val_accuracy: 0.7649\n",
            "Epoch 15/20\n",
            "279/279 [==============================] - 6s 23ms/step - loss: 0.5686 - accuracy: 0.7166 - val_loss: 0.5431 - val_accuracy: 0.7631\n",
            "Epoch 16/20\n",
            "279/279 [==============================] - 6s 23ms/step - loss: 0.5705 - accuracy: 0.7129 - val_loss: 0.5335 - val_accuracy: 0.7716\n",
            "Epoch 17/20\n",
            "279/279 [==============================] - 7s 23ms/step - loss: 0.5628 - accuracy: 0.7207 - val_loss: 0.5379 - val_accuracy: 0.7649\n",
            "Epoch 18/20\n",
            "279/279 [==============================] - 6s 23ms/step - loss: 0.5571 - accuracy: 0.7191 - val_loss: 0.5386 - val_accuracy: 0.7699\n",
            "Epoch 19/20\n",
            "279/279 [==============================] - 7s 24ms/step - loss: 0.5595 - accuracy: 0.7180 - val_loss: 0.5384 - val_accuracy: 0.7725\n",
            "Epoch 20/20\n",
            "279/279 [==============================] - 6s 23ms/step - loss: 0.5566 - accuracy: 0.7212 - val_loss: 0.5409 - val_accuracy: 0.7658\n"
          ],
          "name": "stdout"
        }
      ]
    },
    {
      "cell_type": "code",
      "metadata": {
        "id": "7w9zZnXK8Cyn"
      },
      "source": [
        "model3 = Sequential()\n",
        "\n",
        "model3.add(\n",
        "    Embedding(\n",
        "        num_words,\n",
        "        50,\n",
        "        embeddings_initializer=Constant(embedding_matrix),\n",
        "        #tf.nn.embedding_lookup(num_words,embedding_matrix),\n",
        "        input_length=max_len,\n",
        "        trainable=False,\n",
        "    )\n",
        ")\n",
        "    \n",
        "model3.add(LSTM(50, dropout=0.1))\n",
        "model3.add(Dense(1, activation=\"sigmoid\"))\n",
        "\n",
        "\n",
        "optimizer = Adam(learning_rate=3e-4)\n",
        "\n",
        "model3.compile(loss=\"binary_crossentropy\", optimizer=optimizer, metrics=[\"accuracy\"])"
      ],
      "execution_count": null,
      "outputs": []
    },
    {
      "cell_type": "code",
      "metadata": {
        "colab": {
          "base_uri": "https://localhost:8080/"
        },
        "id": "Dd4Ryrf9_YV4",
        "outputId": "1de2e50b-4c97-4658-d4b7-e8952b4ad9ae"
      },
      "source": [
        "history = model3.fit(\n",
        "    train_padded,\n",
        "    train_labels_cAGR,\n",
        "    epochs=20,\n",
        "    validation_data=(test_padded, test_labels_cAGR),\n",
        "\n",
        "    verbose=1,\n",
        ")"
      ],
      "execution_count": null,
      "outputs": [
        {
          "output_type": "stream",
          "text": [
            "Epoch 1/20\n",
            "279/279 [==============================] - 8s 23ms/step - loss: 0.6919 - accuracy: 0.5333 - val_loss: 0.6830 - val_accuracy: 0.5653\n",
            "Epoch 2/20\n",
            "279/279 [==============================] - 6s 20ms/step - loss: 0.6868 - accuracy: 0.5408 - val_loss: 0.6753 - val_accuracy: 0.5873\n",
            "Epoch 3/20\n",
            "279/279 [==============================] - 6s 21ms/step - loss: 0.6776 - accuracy: 0.5733 - val_loss: 0.6563 - val_accuracy: 0.6124\n",
            "Epoch 4/20\n",
            "279/279 [==============================] - 6s 22ms/step - loss: 0.6714 - accuracy: 0.5876 - val_loss: 0.6560 - val_accuracy: 0.6151\n",
            "Epoch 5/20\n",
            "279/279 [==============================] - 6s 22ms/step - loss: 0.6634 - accuracy: 0.6016 - val_loss: 0.6548 - val_accuracy: 0.6231\n",
            "Epoch 6/20\n",
            "279/279 [==============================] - 6s 22ms/step - loss: 0.6619 - accuracy: 0.6004 - val_loss: 0.6586 - val_accuracy: 0.6083\n",
            "Epoch 7/20\n",
            "279/279 [==============================] - 6s 22ms/step - loss: 0.6604 - accuracy: 0.5995 - val_loss: 0.6467 - val_accuracy: 0.6281\n",
            "Epoch 8/20\n",
            "279/279 [==============================] - 7s 24ms/step - loss: 0.6515 - accuracy: 0.6163 - val_loss: 0.6516 - val_accuracy: 0.6218\n",
            "Epoch 9/20\n",
            "279/279 [==============================] - 6s 22ms/step - loss: 0.6540 - accuracy: 0.6154 - val_loss: 0.6484 - val_accuracy: 0.6272\n",
            "Epoch 10/20\n",
            "279/279 [==============================] - 7s 24ms/step - loss: 0.6474 - accuracy: 0.6181 - val_loss: 0.6490 - val_accuracy: 0.6326\n",
            "Epoch 11/20\n",
            "279/279 [==============================] - 6s 23ms/step - loss: 0.6468 - accuracy: 0.6159 - val_loss: 0.6470 - val_accuracy: 0.6263\n",
            "Epoch 12/20\n",
            "279/279 [==============================] - 6s 23ms/step - loss: 0.6420 - accuracy: 0.6298 - val_loss: 0.6526 - val_accuracy: 0.6160\n",
            "Epoch 13/20\n",
            "279/279 [==============================] - 6s 23ms/step - loss: 0.6357 - accuracy: 0.6313 - val_loss: 0.6495 - val_accuracy: 0.6294\n",
            "Epoch 14/20\n",
            "279/279 [==============================] - 7s 26ms/step - loss: 0.6466 - accuracy: 0.6175 - val_loss: 0.6511 - val_accuracy: 0.6254\n",
            "Epoch 15/20\n",
            "279/279 [==============================] - 6s 23ms/step - loss: 0.6317 - accuracy: 0.6415 - val_loss: 0.6502 - val_accuracy: 0.6317\n",
            "Epoch 16/20\n",
            "279/279 [==============================] - 7s 25ms/step - loss: 0.6310 - accuracy: 0.6387 - val_loss: 0.6506 - val_accuracy: 0.6326\n",
            "Epoch 17/20\n",
            "279/279 [==============================] - 6s 22ms/step - loss: 0.6329 - accuracy: 0.6296 - val_loss: 0.6571 - val_accuracy: 0.6258\n",
            "Epoch 18/20\n",
            "279/279 [==============================] - 6s 23ms/step - loss: 0.6398 - accuracy: 0.6281 - val_loss: 0.6536 - val_accuracy: 0.6249\n",
            "Epoch 19/20\n",
            "279/279 [==============================] - 6s 22ms/step - loss: 0.6239 - accuracy: 0.6530 - val_loss: 0.6610 - val_accuracy: 0.6187\n",
            "Epoch 20/20\n",
            "279/279 [==============================] - 7s 24ms/step - loss: 0.6184 - accuracy: 0.6569 - val_loss: 0.6598 - val_accuracy: 0.6178\n"
          ],
          "name": "stdout"
        }
      ]
    },
    {
      "cell_type": "code",
      "metadata": {
        "id": "Crd30O3M8J7Z"
      },
      "source": [
        "model4 = Sequential()\n",
        "\n",
        "model4.add(\n",
        "    Embedding(\n",
        "        num_words,\n",
        "        50,\n",
        "        embeddings_initializer=Constant(embedding_matrix),\n",
        "        #tf.nn.embedding_lookup(num_words,embedding_matrix),\n",
        "        input_length=max_len,\n",
        "        trainable=False,\n",
        "    )\n",
        ")\n",
        "    \n",
        "\n",
        "model4.add(LSTM(50, dropout=0.1))\n",
        "model4.add(Dense(1, activation=\"sigmoid\"))\n",
        "\n",
        "\n",
        "optimizer = Adam(learning_rate=3e-4)\n",
        "\n",
        "model4.compile(loss=\"binary_crossentropy\", optimizer=optimizer, metrics=[\"accuracy\"])"
      ],
      "execution_count": null,
      "outputs": []
    },
    {
      "cell_type": "code",
      "metadata": {
        "colab": {
          "base_uri": "https://localhost:8080/"
        },
        "id": "1_6Z1X4B_heI",
        "outputId": "0582b002-2b7f-4cac-a497-198059169a16"
      },
      "source": [
        "history = model4.fit(\n",
        "    train_padded,\n",
        "    train_labels_cCON,\n",
        "    epochs=20,\n",
        "    validation_data=(test_padded, test_labels_cCON),\n",
        "\n",
        "    verbose=1,\n",
        ")"
      ],
      "execution_count": null,
      "outputs": [
        {
          "output_type": "stream",
          "text": [
            "Epoch 1/20\n",
            "279/279 [==============================] - 8s 23ms/step - loss: 0.6892 - accuracy: 0.5491 - val_loss: 0.6724 - val_accuracy: 0.5980\n",
            "Epoch 2/20\n",
            "279/279 [==============================] - 6s 21ms/step - loss: 0.6788 - accuracy: 0.5730 - val_loss: 0.6695 - val_accuracy: 0.5971\n",
            "Epoch 3/20\n",
            "279/279 [==============================] - 6s 22ms/step - loss: 0.6781 - accuracy: 0.5683 - val_loss: 0.6683 - val_accuracy: 0.6021\n",
            "Epoch 4/20\n",
            "279/279 [==============================] - 6s 22ms/step - loss: 0.6708 - accuracy: 0.5928 - val_loss: 0.6681 - val_accuracy: 0.5877\n",
            "Epoch 5/20\n",
            "279/279 [==============================] - 7s 23ms/step - loss: 0.6676 - accuracy: 0.5961 - val_loss: 0.6659 - val_accuracy: 0.5944\n",
            "Epoch 6/20\n",
            "279/279 [==============================] - 6s 23ms/step - loss: 0.6659 - accuracy: 0.5919 - val_loss: 0.6663 - val_accuracy: 0.6007\n",
            "Epoch 7/20\n",
            "279/279 [==============================] - 6s 23ms/step - loss: 0.6662 - accuracy: 0.6008 - val_loss: 0.6652 - val_accuracy: 0.6016\n",
            "Epoch 8/20\n",
            "279/279 [==============================] - 6s 23ms/step - loss: 0.6598 - accuracy: 0.6144 - val_loss: 0.6646 - val_accuracy: 0.6043\n",
            "Epoch 9/20\n",
            "279/279 [==============================] - 7s 26ms/step - loss: 0.6563 - accuracy: 0.6121 - val_loss: 0.6643 - val_accuracy: 0.6034\n",
            "Epoch 10/20\n",
            "279/279 [==============================] - 6s 23ms/step - loss: 0.6528 - accuracy: 0.6173 - val_loss: 0.6634 - val_accuracy: 0.6101\n",
            "Epoch 11/20\n",
            "279/279 [==============================] - 6s 23ms/step - loss: 0.6545 - accuracy: 0.6166 - val_loss: 0.6691 - val_accuracy: 0.5873\n",
            "Epoch 12/20\n",
            "279/279 [==============================] - 6s 23ms/step - loss: 0.6489 - accuracy: 0.6180 - val_loss: 0.6669 - val_accuracy: 0.5931\n",
            "Epoch 13/20\n",
            "279/279 [==============================] - 6s 23ms/step - loss: 0.6506 - accuracy: 0.6268 - val_loss: 0.6653 - val_accuracy: 0.6061\n",
            "Epoch 14/20\n",
            "279/279 [==============================] - 6s 23ms/step - loss: 0.6453 - accuracy: 0.6258 - val_loss: 0.6679 - val_accuracy: 0.6025\n",
            "Epoch 15/20\n",
            "279/279 [==============================] - 6s 22ms/step - loss: 0.6379 - accuracy: 0.6355 - val_loss: 0.6744 - val_accuracy: 0.5967\n",
            "Epoch 16/20\n",
            "279/279 [==============================] - 6s 23ms/step - loss: 0.6331 - accuracy: 0.6385 - val_loss: 0.6727 - val_accuracy: 0.5850\n",
            "Epoch 17/20\n",
            "279/279 [==============================] - 7s 24ms/step - loss: 0.6294 - accuracy: 0.6474 - val_loss: 0.6759 - val_accuracy: 0.5810\n",
            "Epoch 18/20\n",
            "279/279 [==============================] - 7s 24ms/step - loss: 0.6281 - accuracy: 0.6554 - val_loss: 0.6732 - val_accuracy: 0.6021\n",
            "Epoch 19/20\n",
            "279/279 [==============================] - 6s 23ms/step - loss: 0.6300 - accuracy: 0.6485 - val_loss: 0.6733 - val_accuracy: 0.5882\n",
            "Epoch 20/20\n",
            "279/279 [==============================] - 7s 23ms/step - loss: 0.6231 - accuracy: 0.6623 - val_loss: 0.6800 - val_accuracy: 0.5787\n"
          ],
          "name": "stdout"
        }
      ]
    },
    {
      "cell_type": "code",
      "metadata": {
        "id": "cIIHG3BZ8Kte"
      },
      "source": [
        "model5 = Sequential()\n",
        "\n",
        "model5.add(\n",
        "    Embedding(\n",
        "        num_words,\n",
        "        50,\n",
        "        embeddings_initializer=Constant(embedding_matrix),\n",
        "        #tf.nn.embedding_lookup(num_words,embedding_matrix),\n",
        "        input_length=max_len,\n",
        "        trainable=False,\n",
        "    )\n",
        ")\n",
        "\n",
        "model5.add(LSTM(50, dropout=0.1))\n",
        "model5.add(Dense(1, activation=\"sigmoid\"))\n",
        "\n",
        "\n",
        "optimizer = Adam(learning_rate=3e-4)\n",
        "\n",
        "model5.compile(loss=\"binary_crossentropy\", optimizer=optimizer, metrics=[\"accuracy\"])"
      ],
      "execution_count": null,
      "outputs": []
    },
    {
      "cell_type": "code",
      "metadata": {
        "colab": {
          "base_uri": "https://localhost:8080/"
        },
        "id": "OM0och2o_iyV",
        "outputId": "6adffac8-3bf6-442d-fe9b-4ea8fe0ecfdc"
      },
      "source": [
        "history = model5.fit(\n",
        "    train_padded,\n",
        "    train_labels_cOPN,\n",
        "    epochs=20,\n",
        "    validation_data=(test_padded, test_labels_cOPN),\n",
        "\n",
        "    verbose=1,\n",
        ")"
      ],
      "execution_count": null,
      "outputs": [
        {
          "output_type": "stream",
          "text": [
            "Epoch 1/20\n",
            "279/279 [==============================] - 8s 23ms/step - loss: 0.5663 - accuracy: 0.7416 - val_loss: 0.4146 - val_accuracy: 0.8591\n",
            "Epoch 2/20\n",
            "279/279 [==============================] - 6s 23ms/step - loss: 0.5062 - accuracy: 0.7638 - val_loss: 0.4064 - val_accuracy: 0.8605\n",
            "Epoch 3/20\n",
            "279/279 [==============================] - 7s 26ms/step - loss: 0.4994 - accuracy: 0.7692 - val_loss: 0.4035 - val_accuracy: 0.8605\n",
            "Epoch 4/20\n",
            "279/279 [==============================] - 7s 23ms/step - loss: 0.4823 - accuracy: 0.7808 - val_loss: 0.4043 - val_accuracy: 0.8582\n",
            "Epoch 5/20\n",
            "279/279 [==============================] - 7s 24ms/step - loss: 0.4951 - accuracy: 0.7721 - val_loss: 0.4125 - val_accuracy: 0.8524\n",
            "Epoch 6/20\n",
            "279/279 [==============================] - 6s 22ms/step - loss: 0.4905 - accuracy: 0.7722 - val_loss: 0.4121 - val_accuracy: 0.8528\n",
            "Epoch 7/20\n",
            "279/279 [==============================] - 6s 22ms/step - loss: 0.4857 - accuracy: 0.7741 - val_loss: 0.4054 - val_accuracy: 0.8578\n",
            "Epoch 8/20\n",
            "279/279 [==============================] - 6s 22ms/step - loss: 0.4619 - accuracy: 0.7943 - val_loss: 0.4031 - val_accuracy: 0.8605\n",
            "Epoch 9/20\n",
            "279/279 [==============================] - 7s 23ms/step - loss: 0.4781 - accuracy: 0.7801 - val_loss: 0.4050 - val_accuracy: 0.8569\n",
            "Epoch 10/20\n",
            "279/279 [==============================] - 7s 24ms/step - loss: 0.4705 - accuracy: 0.7914 - val_loss: 0.4187 - val_accuracy: 0.8470\n",
            "Epoch 11/20\n",
            "279/279 [==============================] - 6s 23ms/step - loss: 0.4771 - accuracy: 0.7795 - val_loss: 0.4061 - val_accuracy: 0.8560\n",
            "Epoch 12/20\n",
            "279/279 [==============================] - 7s 25ms/step - loss: 0.4895 - accuracy: 0.7735 - val_loss: 0.4087 - val_accuracy: 0.8542\n",
            "Epoch 13/20\n",
            "279/279 [==============================] - 6s 22ms/step - loss: 0.4630 - accuracy: 0.7865 - val_loss: 0.4133 - val_accuracy: 0.8506\n",
            "Epoch 14/20\n",
            "279/279 [==============================] - 6s 23ms/step - loss: 0.4711 - accuracy: 0.7833 - val_loss: 0.4075 - val_accuracy: 0.8573\n",
            "Epoch 15/20\n",
            "279/279 [==============================] - 7s 24ms/step - loss: 0.4595 - accuracy: 0.7902 - val_loss: 0.4095 - val_accuracy: 0.8578\n",
            "Epoch 16/20\n",
            "279/279 [==============================] - 7s 25ms/step - loss: 0.4687 - accuracy: 0.7843 - val_loss: 0.4136 - val_accuracy: 0.8573\n",
            "Epoch 17/20\n",
            "279/279 [==============================] - 6s 22ms/step - loss: 0.4632 - accuracy: 0.7897 - val_loss: 0.4095 - val_accuracy: 0.8520\n",
            "Epoch 18/20\n",
            "279/279 [==============================] - 6s 23ms/step - loss: 0.4548 - accuracy: 0.7965 - val_loss: 0.4129 - val_accuracy: 0.8551\n",
            "Epoch 19/20\n",
            "279/279 [==============================] - 6s 23ms/step - loss: 0.4512 - accuracy: 0.7996 - val_loss: 0.4190 - val_accuracy: 0.8564\n",
            "Epoch 20/20\n",
            "279/279 [==============================] - 6s 23ms/step - loss: 0.4604 - accuracy: 0.7879 - val_loss: 0.4113 - val_accuracy: 0.8528\n"
          ],
          "name": "stdout"
        }
      ]
    },
    {
      "cell_type": "code",
      "metadata": {
        "id": "TckM8EQfx2Ei"
      },
      "source": [
        "sequences = tokenizer.texts_to_sequences(test.TEXT)\n",
        "padded = pad_sequences(sequences, maxlen=max_len, padding=\"post\", truncating=\"post\")"
      ],
      "execution_count": null,
      "outputs": []
    },
    {
      "cell_type": "code",
      "metadata": {
        "id": "MMh20YEIx2Ei"
      },
      "source": [
        "pred = model.predict(padded)\n",
        "pred_int = pred.round().astype(\"int\")"
      ],
      "execution_count": null,
      "outputs": []
    },
    {
      "cell_type": "code",
      "metadata": {
        "id": "-ahYAN_bG3KR"
      },
      "source": [
        "pred4 = model4.predict(padded)\n",
        "pred_int4 = pred4.round().astype(\"int\")"
      ],
      "execution_count": null,
      "outputs": []
    },
    {
      "cell_type": "code",
      "metadata": {
        "id": "ExN6Fg3hG3rq"
      },
      "source": [
        "pred3 = model3.predict(padded)\n",
        "pred_int3 = pred3.round().astype(\"int\")"
      ],
      "execution_count": null,
      "outputs": []
    },
    {
      "cell_type": "code",
      "metadata": {
        "id": "_ySY-xdwG4oj"
      },
      "source": [
        "pred5 = model5.predict(padded)\n",
        "pred_int5 = pred5.round().astype(\"int\")"
      ],
      "execution_count": null,
      "outputs": []
    },
    {
      "cell_type": "code",
      "metadata": {
        "colab": {
          "base_uri": "https://localhost:8080/"
        },
        "id": "Rc1KOA9ex2Ei",
        "outputId": "788d5a55-a9ff-4b5c-ea98-5bcda31059b9"
      },
      "source": [
        "pred"
      ],
      "execution_count": null,
      "outputs": [
        {
          "output_type": "execute_result",
          "data": {
            "text/plain": [
              "array([[0.486046  ],\n",
              "       [0.48744595]], dtype=float32)"
            ]
          },
          "metadata": {
            "tags": []
          },
          "execution_count": 97
        }
      ]
    },
    {
      "cell_type": "code",
      "metadata": {
        "colab": {
          "base_uri": "https://localhost:8080/"
        },
        "id": "mYLNxWwsx2Ei",
        "outputId": "fed682dd-c33f-44d8-d99d-cb42ee250355"
      },
      "source": [
        "pred_int.T"
      ],
      "execution_count": null,
      "outputs": [
        {
          "output_type": "execute_result",
          "data": {
            "text/plain": [
              "array([[0, 0]])"
            ]
          },
          "metadata": {
            "tags": []
          },
          "execution_count": 89
        }
      ]
    },
    {
      "cell_type": "code",
      "metadata": {
        "id": "nJ6u91vFoAIC"
      },
      "source": [
        "test['cEXT'] = pred_int"
      ],
      "execution_count": null,
      "outputs": []
    },
    {
      "cell_type": "code",
      "metadata": {
        "id": "zx1oK0D97z22"
      },
      "source": [
        "test['cAGR'] = pred_int3"
      ],
      "execution_count": null,
      "outputs": []
    },
    {
      "cell_type": "code",
      "metadata": {
        "id": "3hP5IJXBHTSS"
      },
      "source": [
        "test['cCON'] = pred_int4"
      ],
      "execution_count": null,
      "outputs": []
    },
    {
      "cell_type": "code",
      "metadata": {
        "id": "GqSOjF5hHU59"
      },
      "source": [
        "test['cOPN'] = pred_int5"
      ],
      "execution_count": null,
      "outputs": []
    },
    {
      "cell_type": "code",
      "metadata": {
        "colab": {
          "base_uri": "https://localhost:8080/",
          "height": 700
        },
        "id": "CahKjeUfog5-",
        "outputId": "35e92030-c916-421f-d38f-1d08dba69247"
      },
      "source": [
        "test.head(25)"
      ],
      "execution_count": null,
      "outputs": [
        {
          "output_type": "execute_result",
          "data": {
            "text/html": [
              "<div>\n",
              "<style scoped>\n",
              "    .dataframe tbody tr th:only-of-type {\n",
              "        vertical-align: middle;\n",
              "    }\n",
              "\n",
              "    .dataframe tbody tr th {\n",
              "        vertical-align: top;\n",
              "    }\n",
              "\n",
              "    .dataframe thead th {\n",
              "        text-align: right;\n",
              "    }\n",
              "</style>\n",
              "<table border=\"1\" class=\"dataframe\">\n",
              "  <thead>\n",
              "    <tr style=\"text-align: right;\">\n",
              "      <th></th>\n",
              "      <th>user_id</th>\n",
              "      <th>TEXT</th>\n",
              "      <th>cEXT</th>\n",
              "      <th>cAGR</th>\n",
              "      <th>cCON</th>\n",
              "      <th>cOPN</th>\n",
              "    </tr>\n",
              "  </thead>\n",
              "  <tbody>\n",
              "    <tr>\n",
              "      <th>0</th>\n",
              "      <td>1</td>\n",
              "      <td>I am glad to be a part of this team.,I agree a...</td>\n",
              "      <td>0</td>\n",
              "      <td>1</td>\n",
              "      <td>0</td>\n",
              "      <td>1</td>\n",
              "    </tr>\n",
              "    <tr>\n",
              "      <th>1</th>\n",
              "      <td>2</td>\n",
              "      <td>That approach could me made easier if we use t...</td>\n",
              "      <td>0</td>\n",
              "      <td>0</td>\n",
              "      <td>0</td>\n",
              "      <td>1</td>\n",
              "    </tr>\n",
              "  </tbody>\n",
              "</table>\n",
              "</div>"
            ],
            "text/plain": [
              "   user_id                                               TEXT  cEXT  cAGR  \\\n",
              "0        1  I am glad to be a part of this team.,I agree a...     0     1   \n",
              "1        2  That approach could me made easier if we use t...     0     0   \n",
              "\n",
              "   cCON  cOPN  \n",
              "0     0     1  \n",
              "1     0     1  "
            ]
          },
          "metadata": {
            "tags": []
          },
          "execution_count": 94
        }
      ]
    },
    {
      "cell_type": "code",
      "metadata": {
        "id": "mTG9rog6wBFZ"
      },
      "source": [
        "#saving the predicted values to a .csv file \n",
        "test.to_csv('final.csv', index=False)"
      ],
      "execution_count": null,
      "outputs": []
    }
  ]
}